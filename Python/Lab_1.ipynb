{
 "cells": [
  {
   "cell_type": "markdown",
   "metadata": {},
   "source": [
    "1)  **Assign a message to a variable, and then print that message.** "
   ]
  },
  {
   "cell_type": "code",
   "execution_count": 1,
   "metadata": {},
   "outputs": [
    {
     "name": "stdout",
     "output_type": "stream",
     "text": [
      "My body's on the line now, i can't fight this time now!\n"
     ]
    }
   ],
   "source": [
    "msg=\"My body's on the line now, i can't fight this time now!\"\n",
    "print(msg)"
   ]
  },
  {
   "cell_type": "markdown",
   "metadata": {},
   "source": [
    "2) **Use a variable to represent your favorite number. Then, using that variable, \n",
    "create a message that reveals your favorite number. Print that message.**"
   ]
  },
  {
   "cell_type": "code",
   "execution_count": 2,
   "metadata": {},
   "outputs": [
    {
     "name": "stdout",
     "output_type": "stream",
     "text": [
      "To all the fans watching, to all the fans listening, to all the fans reading the news, Heeeeeeeere's my favorite numbeeer : 4\n"
     ]
    }
   ],
   "source": [
    "fav_num=4\n",
    "msg=f\"To all the fans watching, to all the fans listening, to all the fans reading the news, Heeeeeeeere's my favorite numbeeer : {fav_num}\"\n",
    "print(msg)"
   ]
  },
  {
   "cell_type": "markdown",
   "metadata": {},
   "source": [
    "3) **The volume of a sphere with radius r is 4/3πr3. What is the volume of a sphere \n",
    "with radius 5? Start with a variable named radius and then assign the result to \n",
    "a variable named volume. Display the result. Add comments to indicate \n",
    "that radius is in centimeters and volume in cubic centimeters.** "
   ]
  },
  {
   "cell_type": "code",
   "execution_count": 4,
   "metadata": {},
   "outputs": [
    {
     "name": "stdout",
     "output_type": "stream",
     "text": [
      "Volume = 113.09733552923254\n"
     ]
    }
   ],
   "source": [
    "import math\n",
    "radius=float(input(\"Enter the radius of the sphere : \")) # Radius is in centimeters\n",
    "volume = float(4/3)*math.pi*radius**3 #volume is in cubic centimeters\n",
    "print(f\"Volume = {volume}\")"
   ]
  },
  {
   "cell_type": "markdown",
   "metadata": {},
   "source": [
    "4) **Let’s your program already contains two integer variables, x and y:      \n",
    "x = 27   \n",
    "y = 15,   \n",
    "Please complete the program so that it also prints out the following: \n",
    "27 + 15 = 42,  \n",
    "27 - 15 = 12,  \n",
    "27 * 15 = 405,    \n",
    "27 / 15 = 1.8**"
   ]
  },
  {
   "cell_type": "code",
   "execution_count": null,
   "metadata": {},
   "outputs": [
    {
     "name": "stdout",
     "output_type": "stream",
     "text": [
      "27+15 = 42\n",
      "27-15 = 12\n",
      "27*15 = 405\n",
      "27/15 = 1.8\n"
     ]
    }
   ],
   "source": [
    "x=27\n",
    "y=15\n",
    "print(f\"{x} + {y} = {x+y}\")\n",
    "print(f\"{x} - {y} = {x-y}\")\n",
    "print(f\"{x} * {y} = {x*y}\")\n",
    "print(f\"{x} / {y} = {x/y}\")\n",
    "\n"
   ]
  },
  {
   "cell_type": "markdown",
   "metadata": {},
   "source": [
    "5) **Please write a program which asks the user for a number of days. The program \n",
    "then prints out the number of seconds in the number of days given.       \n",
    "How many days? 1        \n",
    "Seconds in that many days: 86400** "
   ]
  },
  {
   "cell_type": "code",
   "execution_count": 5,
   "metadata": {},
   "outputs": [
    {
     "name": "stdout",
     "output_type": "stream",
     "text": [
      "Seconds in the given number of days is 86400\n"
     ]
    }
   ],
   "source": [
    "days=int(input(\"Enter the number of days : \"))\n",
    "seconds=days*24*60*60\n",
    "print(f\"Seconds in the given number of days is {seconds}\")"
   ]
  }
 ],
 "metadata": {
  "kernelspec": {
   "display_name": "Python 3",
   "language": "python",
   "name": "python3"
  },
  "language_info": {
   "codemirror_mode": {
    "name": "ipython",
    "version": 3
   },
   "file_extension": ".py",
   "mimetype": "text/x-python",
   "name": "python",
   "nbconvert_exporter": "python",
   "pygments_lexer": "ipython3",
   "version": "3.12.0"
  }
 },
 "nbformat": 4,
 "nbformat_minor": 2
}
