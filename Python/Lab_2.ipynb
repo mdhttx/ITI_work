{
 "cells": [
  {
   "cell_type": "code",
   "execution_count": 34,
   "metadata": {},
   "outputs": [
    {
     "name": "stdout",
     "output_type": "stream",
     "text": [
      "5 + 4 = 9\n"
     ]
    }
   ],
   "source": [
    "num_1= int(input(\"Number 1: \"))\n",
    "num_2= int(input(\"Number 2: \"))\n",
    "operation=input(\"Operation: \")\n",
    "\n",
    "if (operation == \"add\"):\n",
    "        print(f\"{num_1} + {num_2} = {num_1+num_2}\")\n",
    "elif (operation == \"subtract\"):\n",
    "        print(f\"{num_1} - {num_2} = {num_1-num_2}\")\n",
    "elif (operation == \"multiply\"):\n",
    "        print(f\"{num_1} * {num_2} = {num_1*num_2}\")\n",
    "elif (operation == \"divide\"):\n",
    "        print(f\"{num_1} / {num_2} = {num_1/num_2}\")\n",
    "else:\n",
    "        print(\"Enter a valid operator!\")\n",
    "    \n",
    "\n",
    "\n",
    "    \n",
    "    "
   ]
  },
  {
   "cell_type": "code",
   "execution_count": 5,
   "metadata": {},
   "outputs": [
    {
     "name": "stdout",
     "output_type": "stream",
     "text": [
      "Please enter a valid day\n"
     ]
    }
   ],
   "source": [
    "hourly_wage=float(input(\"Hourly wage: \"))\n",
    "hours_worked=float(input(\"Hours worked: \"))\n",
    "day_week=input(\"Days of the week: \") #day of the week\n",
    "daily_wage=-1\n",
    "\n",
    "if day_week == \"Sunday\":\n",
    "    daily_wage=2*hourly_wage*hours_worked\n",
    "      \n",
    "elif day_week == \"Saturday\" or day_week == \"Monday\" or day_week == \"Tuesday\" or day_week == \"Wednesday\" or day_week == \"Thursday\" or day_week == \"Friday\":\n",
    "    daily_wage=hourly_wage*hours_worked\n",
    "      \n",
    "\n",
    "if daily_wage == -1:       \n",
    "    print(f\"Please enter a valid day\")\n",
    "else :\n",
    "    print(f\"Daily wage: {daily_wage} Euros\")\n",
    " \n",
    "\n",
    "    \n",
    "\n",
    "\n",
    "\n",
    "\n"
   ]
  },
  {
   "cell_type": "code",
   "execution_count": 32,
   "metadata": {},
   "outputs": [
    {
     "name": "stdout",
     "output_type": "stream",
     "text": [
      "Your bonus is 15 %\n",
      "You now have 116.14999999999999 points\n"
     ]
    }
   ],
   "source": [
    "# Fix the program\n",
    "points = int(input(\"How many points are on your card? \"))\n",
    "points_replica= points\n",
    "if points < 100 and points_replica < 100:\n",
    "    points *= 1.1\n",
    "    print(\"Your bonus is 10 %\")\n",
    "\n",
    "if points >= 100 and points_replica >=100:\n",
    "    points *= 1.15\n",
    "    print(\"Your bonus is 15 %\")\n",
    "\n",
    "print(\"You now have\", points, \"points\")"
   ]
  },
  {
   "cell_type": "code",
   "execution_count": 9,
   "metadata": {},
   "outputs": [
    {
     "name": "stdout",
     "output_type": "stream",
     "text": [
      "\n"
     ]
    }
   ],
   "source": [
    "num=int(input(\"Number: \"))\n",
    "msg=\"\"\n",
    "\n",
    "if num%3 == 0 and num%5 != 0:\n",
    "    msg=\"Fizz\"\n",
    "    \n",
    "elif num%3 != 0  and num%5 == 0:\n",
    "    msg=\"Buzz\"\n",
    "\n",
    "elif num%3 == 0  and num%5 == 0:\n",
    "    msg=\"FizzBuzz\"\n",
    "    \n",
    "print(f\"{msg}\")\n"
   ]
  },
  {
   "cell_type": "code",
   "execution_count": 33,
   "metadata": {},
   "outputs": [
    {
     "name": "stdout",
     "output_type": "stream",
     "text": [
      "Wrong\n",
      "Wrong\n",
      "Correct! It took you 2 attempts!\n"
     ]
    }
   ],
   "source": [
    "num_attempts=0 #number of attempts\n",
    "while True : \n",
    "    pin=input(\"PIN: \")\n",
    "    \n",
    "    if pin == \"4321\" and num_attempts==0:\n",
    "        print(f\"Correct! It only took you one single attempt!\")\n",
    "        break\n",
    "\n",
    "    elif pin == \"4321\" and num_attempts!=0:\n",
    "        print(f\"Correct! It took you {num_attempts} attempts!\")\n",
    "        break\n",
    "        \n",
    "    elif pin != \"4321\" :\n",
    "        print(f\"Wrong\")\n",
    "        num_attempts+=1\n",
    "\n",
    "\n",
    "    \n"
   ]
  },
  {
   "cell_type": "code",
   "execution_count": 1,
   "metadata": {},
   "outputs": [
    {
     "name": "stdout",
     "output_type": "stream",
     "text": [
      "-10\n",
      "-9\n",
      "-8\n",
      "-7\n",
      "-6\n",
      "-5\n",
      "-4\n",
      "-3\n",
      "-2\n",
      "-1\n"
     ]
    }
   ],
   "source": [
    "for num in range(-10,0):\n",
    "    print(num)\n",
    "    "
   ]
  },
  {
   "cell_type": "code",
   "execution_count": 35,
   "metadata": {},
   "outputs": [
    {
     "name": "stdout",
     "output_type": "stream",
     "text": [
      "321\n"
     ]
    }
   ],
   "source": [
    "num=int(input(\"Number: \"))\n",
    "num_replica=num\n",
    "rev_num=0\n",
    "pow=0\n",
    "\n",
    "while num_replica !=0:\n",
    "    pow+=1\n",
    "    num_replica=int(num_replica/10)  \n",
    "\n",
    "\n",
    "while num != 0:\n",
    "    rev_num+=(num%10) * (10**(pow - 1))\n",
    "    num=int(num/10)\n",
    "    pow-=1\n",
    "\n",
    "print(rev_num)"
   ]
  },
  {
   "cell_type": "code",
   "execution_count": null,
   "metadata": {},
   "outputs": [
    {
     "data": {
      "text/plain": [
       "0"
      ]
     },
     "execution_count": 4,
     "metadata": {},
     "output_type": "execute_result"
    }
   ],
   "source": []
  }
 ],
 "metadata": {
  "kernelspec": {
   "display_name": "Python 3",
   "language": "python",
   "name": "python3"
  },
  "language_info": {
   "codemirror_mode": {
    "name": "ipython",
    "version": 3
   },
   "file_extension": ".py",
   "mimetype": "text/x-python",
   "name": "python",
   "nbconvert_exporter": "python",
   "pygments_lexer": "ipython3",
   "version": "3.12.0"
  }
 },
 "nbformat": 4,
 "nbformat_minor": 2
}
