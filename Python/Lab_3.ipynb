{
 "cells": [
  {
   "cell_type": "code",
   "execution_count": 52,
   "metadata": {},
   "outputs": [
    {
     "name": "stdout",
     "output_type": "stream",
     "text": [
      "#\n",
      "##\n",
      "###\n",
      "####\n",
      "#####\n",
      "######\n",
      "#######\n",
      "########\n",
      "#########\n",
      "##########"
     ]
    }
   ],
   "source": [
    "def triangle(dimension) : \n",
    "    for i in range (1,dimension+1) : \n",
    "        if i!= 1 :\n",
    "            print(\"\")\n",
    "        for j in range (i) :\n",
    "            print(\"#\" , end=\"\")\n",
    "\n",
    "triangle(10)"
   ]
  },
  {
   "cell_type": "code",
   "execution_count": 12,
   "metadata": {},
   "outputs": [
    {
     "name": "stdout",
     "output_type": "stream",
     "text": [
      "0\n"
     ]
    }
   ],
   "source": [
    "def greatest_number (num_1 , num_2 , num_3) : \n",
    "    max = 0\n",
    "    if num_1 >= num_2 and num_1 >= num_3 :\n",
    "        max = num_1\n",
    "    \n",
    "    elif num_2 >= num_1 and num_2 >= num_3 :\n",
    "        max = num_2\n",
    "\n",
    "    elif num_3 >= num_1 and num_3 >= num_2 : \n",
    "        max = num_3\n",
    "    \n",
    "    return max \n",
    "\n",
    "print(greatest_number(0,0,0))"
   ]
  },
  {
   "cell_type": "code",
   "execution_count": 57,
   "metadata": {},
   "outputs": [
    {
     "name": "stdout",
     "output_type": "stream",
     "text": [
      "25\n"
     ]
    }
   ],
   "source": [
    "def greatest_number (num_1 , num_2 , num_3) : \n",
    "    if num_1 > num_2 :\n",
    "        if num_1 > num_3 :\n",
    "            return num_1 \n",
    "        else :\n",
    "            return num_3\n",
    "    \n",
    "    else : \n",
    "        if num_2 > num_3 :\n",
    "            return num_2 \n",
    "        else :\n",
    "            return num_3\n",
    "            \n",
    "print(greatest_number(1,5,25))"
   ]
  },
  {
   "cell_type": "code",
   "execution_count": 31,
   "metadata": {},
   "outputs": [
    {
     "name": "stdout",
     "output_type": "stream",
     "text": [
      "-2\n"
     ]
    }
   ],
   "source": [
    "def sum_series (n) :\n",
    "    sum = 0\n",
    "    for i in range (1 , n+1 ) :\n",
    "        if i%2 == 0 :\n",
    "           # print(f\"{i} + \" , end=\"\")\n",
    "            sum -= i\n",
    "        else :\n",
    "           # print(f\"{i} - \" , end=\"\")\n",
    "            sum += i\n",
    "    return sum\n",
    "\n",
    "print(sum_series(4))\n",
    "\n"
   ]
  },
  {
   "cell_type": "code",
   "execution_count": 38,
   "metadata": {},
   "outputs": [
    {
     "name": "stdout",
     "output_type": "stream",
     "text": [
      "Negative numbers don't have a factorial\n"
     ]
    }
   ],
   "source": [
    "def factorial (num) : \n",
    "    fact = 1\n",
    "    if num >= 0 :\n",
    "        for i in range ( num , 0 , -1 ) : \n",
    "            fact *= i\n",
    "    else : \n",
    "        return \"Negative numbers don't have a factorial\"\n",
    "\n",
    "    return fact \n",
    "        \n",
    "print(factorial(-5))"
   ]
  },
  {
   "cell_type": "code",
   "execution_count": 9,
   "metadata": {},
   "outputs": [
    {
     "name": "stdout",
     "output_type": "stream",
     "text": [
      "Hannah isn't palindrome!\n",
      "hannah is palindrome!\n"
     ]
    }
   ],
   "source": [
    "from word_utilss import palindrome\n",
    "\n",
    "word_utilss.palindrome(\"Hannah\")\n",
    "word_utilss.palindrome(\"hannah\")"
   ]
  }
 ],
 "metadata": {
  "kernelspec": {
   "display_name": "Python 3",
   "language": "python",
   "name": "python3"
  },
  "language_info": {
   "codemirror_mode": {
    "name": "ipython",
    "version": 3
   },
   "file_extension": ".py",
   "mimetype": "text/x-python",
   "name": "python",
   "nbconvert_exporter": "python",
   "pygments_lexer": "ipython3",
   "version": "3.12.0"
  }
 },
 "nbformat": 4,
 "nbformat_minor": 2
}
