{
 "cells": [
  {
   "cell_type": "code",
   "execution_count": null,
   "metadata": {},
   "outputs": [
    {
     "name": "stdout",
     "output_type": "stream",
     "text": [
      "First element is 1 and last element is 10\n",
      "--------------------------------------\n",
      "[10, 9, 8, 7, 6, 5, 4, 3, 2, 1]\n",
      "--------------------------------------\n",
      "55\n"
     ]
    }
   ],
   "source": [
    "#### **Warm-Up: Basic Operations**\n",
    " \n",
    "# **lists**\n",
    "integers = [1,2,3,4,5,6,7,8,9,10]\n",
    "\n",
    "print(f\"First element is {integers[0]} and last element is {integers[-1]}\")\n",
    "\n",
    "#######################################################\n",
    "print(\"--------------------------------------\")\n",
    "\n",
    "def list_reverse (my_lst) : \n",
    "    temp = 1\n",
    "    right_decrement = len(my_lst) - 1 \n",
    "    \n",
    "    for left_increment in range (0 , len(my_lst) // 2, 1) :\n",
    "        temp = my_lst[left_increment]\n",
    "        my_lst[left_increment] = my_lst[right_decrement]\n",
    "        my_lst[right_decrement] = temp\n",
    "        right_decrement -= 1 \n",
    "        \n",
    "    return my_lst\n",
    "\n",
    "print(list_reverse(integers))\n",
    "\n",
    "\n",
    "########################################################\n",
    "print(\"--------------------------------------\")\n",
    "\n",
    "\n",
    "def list_sum(my_lst) :\n",
    "    sum = 0\n",
    "    for i in my_lst : \n",
    "        sum += i\n",
    "    return sum\n",
    "\n",
    "print(list_sum(integers)) \n",
    "    \n"
   ]
  },
  {
   "cell_type": "code",
   "execution_count": 3,
   "metadata": {},
   "outputs": [
    {
     "name": "stdout",
     "output_type": "stream",
     "text": [
      "1 : 1\n",
      "2 : 4\n",
      "3 : 9\n",
      "4 : 16\n",
      "5 : 25\n",
      "-------------------------------------------\n",
      "{1: 1, 2: 4, 3: 9, 4: 16, 5: 25, 6: 36}\n",
      "-------------------------------------------\n",
      "The key 7 doesn't exist\n"
     ]
    }
   ],
   "source": [
    "# **Dictionaries:**\n",
    "my_dictionary = {num : num * num for num in range (1 , 6)}\n",
    "\n",
    "for key , value in my_dictionary.items() : \n",
    "    print(f\"{key} : {value}\")\n",
    "print(\"-------------------------------------------\")\n",
    "\n",
    "\n",
    "####################################################### \n",
    "   \n",
    "my_dictionary[6] = 36\n",
    "print(my_dictionary)\n",
    "   \n",
    "print(\"-------------------------------------------\")\n",
    "\n",
    "\n",
    "####################################################### \n",
    "\n",
    "key = 7\n",
    "\n",
    "if key in my_dictionary.keys() : \n",
    "    print (f\"The key {key} exists\")\n",
    "else :\n",
    "    print(f\"The key {key} doesn't exist\")\n"
   ]
  },
  {
   "cell_type": "code",
   "execution_count": 4,
   "metadata": {},
   "outputs": [
    {
     "name": "stdout",
     "output_type": "stream",
     "text": [
      "Ahmed's average grade: 44.0\n",
      "Robert's average grade: 41.666666666666664\n",
      "Matilda's average grade: 42.666666666666664\n",
      "-------------------------------------------------\n",
      "The student with the maximum average is Ahmed with an average of 44.0  \n"
     ]
    }
   ],
   "source": [
    "# **Student Grades:**\n",
    "# Grades are of 50 \n",
    "\n",
    "students = {'Ahmed' : [44 , 39 , 49] , 'Robert' : [50 , 34 , 41] , 'Matilda' : [47 , 50 , 31]}\n",
    "\n",
    "def students_avg(my_lst) : \n",
    "    sum=0\n",
    "    for number in my_lst : \n",
    "        sum += number\n",
    "\n",
    "    if (len(my_lst)) > 0 :           \n",
    "        avg = sum / len(my_lst)\n",
    "    else : \n",
    "        avg = 0\n",
    "    \n",
    "    return avg                  \n",
    "\n",
    "\n",
    "def print_students_avg(my_dictionary) : \n",
    "    \n",
    "    for student , grades in my_dictionary.items() : \n",
    "        avg_grade = students_avg (grades)\n",
    "        print(f\"{student}'s average grade: {avg_grade}\")\n",
    "    \n",
    "\n",
    "print_students_avg(students)\n",
    "\n",
    "print(\"-------------------------------------------------\")\n",
    "#2\n",
    "####################################################\n",
    "maximum_average = 0 \n",
    "student_name = \"\"\n",
    "\n",
    "for student , grades in students.items() : \n",
    "    grade_average = students_avg(grades)\n",
    "    \n",
    "    if grade_average > maximum_average : \n",
    "        maximum_average = grade_average\n",
    "        student_name = student\n",
    "\n",
    "print(f\"The student with the maximum average is {student_name} with an average of {maximum_average}  \")\n",
    "\n",
    "\n",
    "\n",
    "\n",
    "\n",
    "\n",
    "\n",
    "\n",
    "\n",
    "\n",
    "\n",
    "\n",
    "\n",
    "\n",
    "\n",
    "\n",
    "\n"
   ]
  },
  {
   "cell_type": "code",
   "execution_count": 5,
   "metadata": {},
   "outputs": [
    {
     "name": "stdout",
     "output_type": "stream",
     "text": [
      "{'Pepsi': 15, 'Pasta': 30, 'Shampoo': 140, 'Chicken breasts': 160, 'Sausage pack': 100}\n",
      "Product is already in cart!\n",
      "{'Pepsi': 15, 'Pasta': 30, 'Shampoo': 140, 'Chicken breasts': 160, 'Sausage pack': 100}\n",
      "Total price : 445\n"
     ]
    }
   ],
   "source": [
    "## **Shopping Cart:**\n",
    "\n",
    "shopping_cart = {'Pepsi' : 15 , 'Pasta' : 30 , 'Shampoo' : 140 , 'Chicken breasts' : 160 , 'Sausage pack' : 100}\n",
    "print(shopping_cart)\n",
    "\n",
    "def add_to_cart(my_cart , key , value) : \n",
    "    if key in my_cart : \n",
    "        print(\"Product is already in cart!\")\n",
    "    else : \n",
    "        my_cart[key] = value\n",
    "\n",
    "add_to_cart(shopping_cart , 'Pepsi' , 30)\n",
    "print(shopping_cart)\n",
    "\n",
    "def cart_total_price(my_cart) :\n",
    "    total = 0\n",
    "    for  price in my_cart.values() : \n",
    "        total += price\n",
    "    return total\n",
    "\n",
    "print(f\"Total price : {cart_total_price(shopping_cart)}\")"
   ]
  },
  {
   "cell_type": "code",
   "execution_count": null,
   "metadata": {},
   "outputs": [],
   "source": []
  },
  {
   "cell_type": "code",
   "execution_count": null,
   "metadata": {},
   "outputs": [
    {
     "name": "stdout",
     "output_type": "stream",
     "text": [
      "The department doesn't exist!\n",
      "32.0\n"
     ]
    }
   ],
   "source": [
    "# **Employee Database:**\n",
    "# I let the AI generate the employees list of dictionaries\n",
    "employees = [\n",
    "    {\"name\": \"John Doe\", \"age\": 28, \"department\": \"HR\"},\n",
    "    {\"name\": \"Jane Smith\", \"age\": 35, \"department\": \"IT\"},\n",
    "    {\"name\": \"Alice Johnson\", \"age\": 42, \"department\": \"Finance\"},\n",
    "    {\"name\": \"Bob Brown\", \"age\": 30, \"department\": \"Marketing\"},\n",
    "    {\"name\": \"Charlie White\", \"age\": 25, \"department\": \"Sales\"}\n",
    "]\n",
    "\n",
    "def employee_department_search(employees , department) : \n",
    "    filtered_employee = []\n",
    "    flag = 0\n",
    "    for employee in employees : \n",
    "        if department != employee[\"department\"] : \n",
    "            continue\n",
    "        else : \n",
    "            filtered_employee = employee \n",
    "            flag = 1\n",
    "    if flag == 1 : \n",
    "        return filtered_employee\n",
    "    else : \n",
    "        return \"The department doesn't exist!\"\n",
    "    \n",
    "print(employee_department_search(employees , 5454))\n",
    "\n",
    "def employee_avg_age(employees) : \n",
    "    sum = 0\n",
    "    for employee in employees : \n",
    "        sum += employee[\"age\"]\n",
    "        \n",
    "    avg = sum / len(employees)\n",
    "    return avg \n",
    "\n",
    "print(employee_avg_age(employees))\n",
    "\n"
   ]
  },
  {
   "cell_type": "code",
   "execution_count": 7,
   "metadata": {},
   "outputs": [
    {
     "name": "stdout",
     "output_type": "stream",
     "text": [
      "roses : 1\n",
      "are : 2\n",
      "red : 2\n",
      ", : 3\n",
      "violets : 1\n",
      "blue : 2\n",
      "but : 1\n",
      "i : 1\n",
      "hate : 1\n",
      "and : 1\n",
      "fear : 1\n"
     ]
    }
   ],
   "source": [
    "# **Word Frequency Counter:**\n",
    "def word_frequency_counter (text) : \n",
    "    words = text.lower().split()\n",
    "    \n",
    "    word_count = {}\n",
    "    \n",
    "    for word in words : \n",
    "        if word in word_count :\n",
    "            word_count[word]+=1\n",
    "        else:\n",
    "            word_count[word]=1\n",
    "            \n",
    "    return word_count\n",
    "\n",
    "text = \"Roses are red , violets are blue , but i hate blue , and fear red\"\n",
    "\n",
    "word_count = word_frequency_counter(text)\n",
    "\n",
    "for word , count in word_count.items() : \n",
    "    print(f\"{word} : {count}\")\n",
    "    \n",
    "    \n",
    "    \n",
    "    \n",
    "    \n",
    "    \n",
    "    \n",
    "    "
   ]
  },
  {
   "cell_type": "code",
   "execution_count": null,
   "metadata": {},
   "outputs": [
    {
     "name": "stdout",
     "output_type": "stream",
     "text": [
      "Item: Apple, Price: 1.2, Quantity: 50\n",
      "Item: Banana, Price: 0.5, Quantity: 100\n",
      "Item: Orange, Price: 0.8, Quantity: 75\n",
      "Item: Milk, Price: 1.5, Quantity: 30\n",
      "Item: Bread, Price: 2.0, Quantity: 20\n",
      "5 bread(s) sold.\n",
      "10 bread(s) restocked.\n",
      "Item: Apple, Price: 1.2, Quantity: 50\n",
      "Item: Banana, Price: 0.5, Quantity: 100\n",
      "Item: Orange, Price: 0.8, Quantity: 75\n",
      "Item: Milk, Price: 1.5, Quantity: 30\n",
      "Item: Bread, Price: 2.0, Quantity: 25\n"
     ]
    }
   ],
   "source": [
    "# **Inventory Management:**\n",
    "inventory = {\n",
    "    \"apple\": {\"price\": 1.2, \"quantity\": 50},\n",
    "    \"banana\": {\"price\": 0.5, \"quantity\": 100},\n",
    "    \"orange\": {\"price\": 0.8, \"quantity\": 75},\n",
    "    \"milk\": {\"price\": 1.5, \"quantity\": 30},\n",
    "    \"bread\": {\"price\": 2.0, \"quantity\": 20}\n",
    "}\n",
    "\n",
    "def inventory_print(inventory):\n",
    "    for item, infos in inventory.items():\n",
    "        print(f\"Item: {item.title()},Price: {infos['price']},Quantity: {infos['quantity']}\")\n",
    "\n",
    "def update_stock(inventory , item , quantity_sold):\n",
    "    if item in inventory:\n",
    "        if inventory[item][\"quantity\"] >= quantity_sold:\n",
    "            inventory[item][\"quantity\"] -= quantity_sold\n",
    "            print(f\"{quantity_sold} {item} sold.\")\n",
    "        else:\n",
    "            print(f\"Not enough stock for {item}.\")\n",
    "    else:\n",
    "        print(f\"The {item} isn't in the inventory.\")\n",
    "\n",
    "def restock_item(inventory , item , quantity_added):\n",
    "    if item in inventory:\n",
    "        inventory[item][\"quantity\"] += quantity_added\n",
    "        print(f\"{quantity_added} {item} restocked.\")\n",
    "    else:\n",
    "        print(f\"The {item} isn't in the inventory, so it cannot be restocked.\")\n",
    "\n",
    "inventory_print(inventory)\n",
    "\n",
    "update_stock(inventory,'bread',5)\n",
    "\n",
    "restock_item(inventory,'bread',10)\n",
    "\n",
    "inventory_print(inventory)\n"
   ]
  },
  {
   "cell_type": "code",
   "execution_count": null,
   "metadata": {},
   "outputs": [
    {
     "name": "stdout",
     "output_type": "stream",
     "text": [
      "Books in the \"fiction\" genre:\n",
      "- The Great Gatsby\n",
      "- 1984\n",
      "- To Kill a Mockingbird\n",
      "Added \"The Selfish Gene\" to the \"science\" genre.\n",
      "Books in the \"science\" genre:\n",
      "- A Brief History of Time\n",
      "- The Gene\n",
      "- Cosmos\n",
      "- The Selfish Gene\n"
     ]
    }
   ],
   "source": [
    "# **Nested Data Manipulation:**\n",
    "# Note >> I let the AI Generate the library nested dictionary\n",
    "library = {\n",
    "    \"fiction\": [\"The Great Gatsby\", \"1984\", \"To Kill a Mockingbird\"],\n",
    "    \"non-fiction\": [\"Sapiens\", \"Educated\", \"Becoming\"],\n",
    "    \"science\": [\"A Brief History of Time\", \"The Gene\", \"Cosmos\"],\n",
    "    \"history\": [\"The Diary of a Young Girl\", \"Guns, Germs, and Steel\"]\n",
    "}\n",
    "\n",
    "def add_book(library,genre,book):\n",
    "    if genre in library:\n",
    "        library[genre].append(book)\n",
    "        print(f'Added \"{book}\" to the \"{genre}\" genre')\n",
    "    else:\n",
    "        print(f'The genre \"{genre}\" does not exist')\n",
    "\n",
    "def list_books(library,genre):\n",
    "    if genre in library:\n",
    "        print(f'Books in the \"{genre}\" genre:')\n",
    "        for book in library[genre]:\n",
    "            print(f'- {book}')\n",
    "    else:\n",
    "        print(f'The genre \"{genre}\" does not exist')\n",
    "\n",
    "\n",
    "list_books(library,\"fiction\")\n",
    "add_book(library,\"science\",\"The Selfish Gene\")\n",
    "list_books(library,\"science\")\n"
   ]
  },
  {
   "cell_type": "code",
   "execution_count": null,
   "metadata": {},
   "outputs": [
    {
     "name": "stdout",
     "output_type": "stream",
     "text": [
      "True\n"
     ]
    }
   ],
   "source": [
    "# **Anagram Checker:**\n",
    "def anagrams(str1 , str2) : \n",
    "    str1 = str1.lower()\n",
    "    str2 = str2.lower()\n",
    "    if sorted(str1) == sorted (str2) : \n",
    "        return True \n",
    "    else : \n",
    "        return False\n",
    "\n",
    "str1 = \"team\"\n",
    "str2 = \"meta\"\n",
    "\n",
    "print(anagrams(str1,str2))"
   ]
  },
  {
   "cell_type": "code",
   "execution_count": null,
   "metadata": {},
   "outputs": [
    {
     "name": "stdout",
     "output_type": "stream",
     "text": [
      "[0, 1]\n"
     ]
    }
   ],
   "source": [
    "#  **Two-Sum Problem:**\n",
    "def two_sum(nums , target):\n",
    "    num_dict = {}\n",
    "    \n",
    "    for i in range(len(nums)):\n",
    "        num = nums[i]\n",
    "        diff = target - num\n",
    "        \n",
    "        if diff in num_dict:\n",
    "            return [num_dict[diff],i]\n",
    "        \n",
    "        num_dict[num] = i\n",
    "    \n",
    "    return None\n",
    "\n",
    "nums = [2,7,11,15]\n",
    "target = 9\n",
    "result = two_sum(nums,target)\n",
    "print(result)  \n"
   ]
  }
 ],
 "metadata": {
  "kernelspec": {
   "display_name": "Python 3",
   "language": "python",
   "name": "python3"
  },
  "language_info": {
   "codemirror_mode": {
    "name": "ipython",
    "version": 3
   },
   "file_extension": ".py",
   "mimetype": "text/x-python",
   "name": "python",
   "nbconvert_exporter": "python",
   "pygments_lexer": "ipython3",
   "version": "3.12.0"
  }
 },
 "nbformat": 4,
 "nbformat_minor": 2
}
